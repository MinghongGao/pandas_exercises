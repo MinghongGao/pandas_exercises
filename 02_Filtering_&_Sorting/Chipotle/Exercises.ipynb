{
 "cells": [
  {
   "cell_type": "markdown",
   "metadata": {},
   "source": [
    "# Ex1 - Filtering and Sorting Data"
   ]
  },
  {
   "cell_type": "markdown",
   "metadata": {},
   "source": [
    "This time we are going to pull data directly from the internet.\n",
    "Special thanks to: https://github.com/justmarkham for sharing the dataset and materials.\n",
    "\n",
    "### Step 1. Import the necessary libraries"
   ]
  },
  {
   "cell_type": "code",
   "metadata": {
    "collapsed": false,
    "ExecuteTime": {
     "end_time": "2025-09-02T09:27:03.732343Z",
     "start_time": "2025-09-02T09:27:03.440040Z"
    }
   },
   "source": "import pandas as pd",
   "outputs": [],
   "execution_count": 2
  },
  {
   "cell_type": "markdown",
   "metadata": {},
   "source": [
    "### Step 2. Import the dataset from this [address](https://raw.githubusercontent.com/justmarkham/DAT8/master/data/chipotle.tsv). "
   ]
  },
  {
   "cell_type": "markdown",
   "metadata": {},
   "source": [
    "### Step 3. Assign it to a variable called chipo."
   ]
  },
  {
   "cell_type": "code",
   "metadata": {
    "collapsed": false,
    "ExecuteTime": {
     "end_time": "2025-09-02T09:27:05.337619Z",
     "start_time": "2025-09-02T09:27:04.977879Z"
    }
   },
   "source": "chipo = pd.read_csv(\"https://raw.githubusercontent.com/justmarkham/DAT8/master/data/chipotle.tsv\", sep=\"\\t\")",
   "outputs": [],
   "execution_count": 3
  },
  {
   "cell_type": "markdown",
   "metadata": {},
   "source": [
    "### Step 4. How many products cost more than $10.00?"
   ]
  },
  {
   "cell_type": "code",
   "metadata": {
    "collapsed": false,
    "ExecuteTime": {
     "end_time": "2025-09-02T10:00:09.778272Z",
     "start_time": "2025-09-02T10:00:09.769033Z"
    }
   },
   "source": [
    "filtered = chipo.drop_duplicates([\"item_name\", \"choice_description\"])\n",
    "cost_more_than_10 = ((filtered[\"item_price\"].str[1:].astype(float)) / filtered[\"quantity\"]) > 10\n",
    "filtered[cost_more_than_10]"
   ],
   "outputs": [
    {
     "data": {
      "text/plain": [
       "      order_id  quantity        item_name  \\\n",
       "5            3         1     Chicken Bowl   \n",
       "7            4         1    Steak Burrito   \n",
       "13           7         1     Chicken Bowl   \n",
       "23          12         1  Chicken Burrito   \n",
       "39          19         1    Barbacoa Bowl   \n",
       "...        ...       ...              ...   \n",
       "4593      1825         1    Carnitas Bowl   \n",
       "4594      1825         1    Barbacoa Bowl   \n",
       "4607      1829         1    Steak Burrito   \n",
       "4610      1830         1    Steak Burrito   \n",
       "4611      1830         1   Veggie Burrito   \n",
       "\n",
       "                                     choice_description item_price  \n",
       "5     [Fresh Tomato Salsa (Mild), [Rice, Cheese, Sou...    $10.98   \n",
       "7     [Tomatillo Red Chili Salsa, [Fajita Vegetables...    $11.75   \n",
       "13    [Fresh Tomato Salsa, [Fajita Vegetables, Rice,...    $11.25   \n",
       "23    [[Tomatillo-Green Chili Salsa (Medium), Tomati...    $10.98   \n",
       "39    [Roasted Chili Corn Salsa, [Fajita Vegetables,...    $11.75   \n",
       "...                                                 ...        ...  \n",
       "4593  [Roasted Chili Corn Salsa, [Rice, Sour Cream, ...    $11.75   \n",
       "4594  [Roasted Chili Corn Salsa, [Pinto Beans, Sour ...    $11.75   \n",
       "4607  [Tomatillo Green Chili Salsa, [Rice, Cheese, S...    $11.75   \n",
       "4610  [Fresh Tomato Salsa, [Rice, Sour Cream, Cheese...    $11.75   \n",
       "4611  [Tomatillo Green Chili Salsa, [Rice, Fajita Ve...    $11.25   \n",
       "\n",
       "[707 rows x 5 columns]"
      ],
      "text/html": [
       "<div>\n",
       "<style scoped>\n",
       "    .dataframe tbody tr th:only-of-type {\n",
       "        vertical-align: middle;\n",
       "    }\n",
       "\n",
       "    .dataframe tbody tr th {\n",
       "        vertical-align: top;\n",
       "    }\n",
       "\n",
       "    .dataframe thead th {\n",
       "        text-align: right;\n",
       "    }\n",
       "</style>\n",
       "<table border=\"1\" class=\"dataframe\">\n",
       "  <thead>\n",
       "    <tr style=\"text-align: right;\">\n",
       "      <th></th>\n",
       "      <th>order_id</th>\n",
       "      <th>quantity</th>\n",
       "      <th>item_name</th>\n",
       "      <th>choice_description</th>\n",
       "      <th>item_price</th>\n",
       "    </tr>\n",
       "  </thead>\n",
       "  <tbody>\n",
       "    <tr>\n",
       "      <th>5</th>\n",
       "      <td>3</td>\n",
       "      <td>1</td>\n",
       "      <td>Chicken Bowl</td>\n",
       "      <td>[Fresh Tomato Salsa (Mild), [Rice, Cheese, Sou...</td>\n",
       "      <td>$10.98</td>\n",
       "    </tr>\n",
       "    <tr>\n",
       "      <th>7</th>\n",
       "      <td>4</td>\n",
       "      <td>1</td>\n",
       "      <td>Steak Burrito</td>\n",
       "      <td>[Tomatillo Red Chili Salsa, [Fajita Vegetables...</td>\n",
       "      <td>$11.75</td>\n",
       "    </tr>\n",
       "    <tr>\n",
       "      <th>13</th>\n",
       "      <td>7</td>\n",
       "      <td>1</td>\n",
       "      <td>Chicken Bowl</td>\n",
       "      <td>[Fresh Tomato Salsa, [Fajita Vegetables, Rice,...</td>\n",
       "      <td>$11.25</td>\n",
       "    </tr>\n",
       "    <tr>\n",
       "      <th>23</th>\n",
       "      <td>12</td>\n",
       "      <td>1</td>\n",
       "      <td>Chicken Burrito</td>\n",
       "      <td>[[Tomatillo-Green Chili Salsa (Medium), Tomati...</td>\n",
       "      <td>$10.98</td>\n",
       "    </tr>\n",
       "    <tr>\n",
       "      <th>39</th>\n",
       "      <td>19</td>\n",
       "      <td>1</td>\n",
       "      <td>Barbacoa Bowl</td>\n",
       "      <td>[Roasted Chili Corn Salsa, [Fajita Vegetables,...</td>\n",
       "      <td>$11.75</td>\n",
       "    </tr>\n",
       "    <tr>\n",
       "      <th>...</th>\n",
       "      <td>...</td>\n",
       "      <td>...</td>\n",
       "      <td>...</td>\n",
       "      <td>...</td>\n",
       "      <td>...</td>\n",
       "    </tr>\n",
       "    <tr>\n",
       "      <th>4593</th>\n",
       "      <td>1825</td>\n",
       "      <td>1</td>\n",
       "      <td>Carnitas Bowl</td>\n",
       "      <td>[Roasted Chili Corn Salsa, [Rice, Sour Cream, ...</td>\n",
       "      <td>$11.75</td>\n",
       "    </tr>\n",
       "    <tr>\n",
       "      <th>4594</th>\n",
       "      <td>1825</td>\n",
       "      <td>1</td>\n",
       "      <td>Barbacoa Bowl</td>\n",
       "      <td>[Roasted Chili Corn Salsa, [Pinto Beans, Sour ...</td>\n",
       "      <td>$11.75</td>\n",
       "    </tr>\n",
       "    <tr>\n",
       "      <th>4607</th>\n",
       "      <td>1829</td>\n",
       "      <td>1</td>\n",
       "      <td>Steak Burrito</td>\n",
       "      <td>[Tomatillo Green Chili Salsa, [Rice, Cheese, S...</td>\n",
       "      <td>$11.75</td>\n",
       "    </tr>\n",
       "    <tr>\n",
       "      <th>4610</th>\n",
       "      <td>1830</td>\n",
       "      <td>1</td>\n",
       "      <td>Steak Burrito</td>\n",
       "      <td>[Fresh Tomato Salsa, [Rice, Sour Cream, Cheese...</td>\n",
       "      <td>$11.75</td>\n",
       "    </tr>\n",
       "    <tr>\n",
       "      <th>4611</th>\n",
       "      <td>1830</td>\n",
       "      <td>1</td>\n",
       "      <td>Veggie Burrito</td>\n",
       "      <td>[Tomatillo Green Chili Salsa, [Rice, Fajita Ve...</td>\n",
       "      <td>$11.25</td>\n",
       "    </tr>\n",
       "  </tbody>\n",
       "</table>\n",
       "<p>707 rows × 5 columns</p>\n",
       "</div>"
      ]
     },
     "execution_count": 23,
     "metadata": {},
     "output_type": "execute_result"
    }
   ],
   "execution_count": 23
  },
  {
   "metadata": {},
   "cell_type": "markdown",
   "source": ""
  },
  {
   "cell_type": "markdown",
   "metadata": {},
   "source": [
    "### Step 5. What is the price of each item? \n",
    "###### print a data frame with only two columns item_name and item_price"
   ]
  },
  {
   "cell_type": "code",
   "metadata": {
    "collapsed": false,
    "ExecuteTime": {
     "end_time": "2025-09-02T10:21:23.385493Z",
     "start_time": "2025-09-02T10:21:23.372674Z"
    }
   },
   "source": [
    "filtered = chipo.drop_duplicates([\"item_name\", \"choice_description\"])\n",
    "price = (filtered[\"item_price\"].str[1:].astype(float) / filtered[\"quantity\"]).rename(\"item_price\")\n",
    "price_per_item = pd.concat([filtered[[\"item_name\", \"choice_description\"]], price], axis=\"columns\").sort_values(\"item_price\", ascending=False)\n",
    "price_per_item"
   ],
   "outputs": [
    {
     "data": {
      "text/plain": [
       "                item_name                                 choice_description  \\\n",
       "1326  Barbacoa Salad Bowl  [Fresh Tomato Salsa, [Fajita Vegetables, Rice,...   \n",
       "2957     Steak Salad Bowl  [Fresh Tomato Salsa, [Black Beans, Cheese, Gua...   \n",
       "3120     Steak Salad Bowl  [Roasted Chili Corn Salsa, [Fajita Vegetables,...   \n",
       "4313     Steak Salad Bowl  [Roasted Chili Corn Salsa, [Fajita Vegetables,...   \n",
       "3208  Barbacoa Salad Bowl  [Tomatillo Red Chili Salsa, [Black Beans, Chee...   \n",
       "...                   ...                                                ...   \n",
       "28            Canned Soda                                       [Dr. Pepper]   \n",
       "117           Canned Soda                                  [Diet Dr. Pepper]   \n",
       "126           Canned Soda                                        [Coca Cola]   \n",
       "162           Canned Soda                                        [Diet Coke]   \n",
       "18            Canned Soda                                           [Sprite]   \n",
       "\n",
       "      item_price  \n",
       "1326       11.89  \n",
       "2957       11.89  \n",
       "3120       11.89  \n",
       "4313       11.89  \n",
       "3208       11.89  \n",
       "...          ...  \n",
       "28          1.09  \n",
       "117         1.09  \n",
       "126         1.09  \n",
       "162         1.09  \n",
       "18          1.09  \n",
       "\n",
       "[1871 rows x 3 columns]"
      ],
      "text/html": [
       "<div>\n",
       "<style scoped>\n",
       "    .dataframe tbody tr th:only-of-type {\n",
       "        vertical-align: middle;\n",
       "    }\n",
       "\n",
       "    .dataframe tbody tr th {\n",
       "        vertical-align: top;\n",
       "    }\n",
       "\n",
       "    .dataframe thead th {\n",
       "        text-align: right;\n",
       "    }\n",
       "</style>\n",
       "<table border=\"1\" class=\"dataframe\">\n",
       "  <thead>\n",
       "    <tr style=\"text-align: right;\">\n",
       "      <th></th>\n",
       "      <th>item_name</th>\n",
       "      <th>choice_description</th>\n",
       "      <th>item_price</th>\n",
       "    </tr>\n",
       "  </thead>\n",
       "  <tbody>\n",
       "    <tr>\n",
       "      <th>1326</th>\n",
       "      <td>Barbacoa Salad Bowl</td>\n",
       "      <td>[Fresh Tomato Salsa, [Fajita Vegetables, Rice,...</td>\n",
       "      <td>11.89</td>\n",
       "    </tr>\n",
       "    <tr>\n",
       "      <th>2957</th>\n",
       "      <td>Steak Salad Bowl</td>\n",
       "      <td>[Fresh Tomato Salsa, [Black Beans, Cheese, Gua...</td>\n",
       "      <td>11.89</td>\n",
       "    </tr>\n",
       "    <tr>\n",
       "      <th>3120</th>\n",
       "      <td>Steak Salad Bowl</td>\n",
       "      <td>[Roasted Chili Corn Salsa, [Fajita Vegetables,...</td>\n",
       "      <td>11.89</td>\n",
       "    </tr>\n",
       "    <tr>\n",
       "      <th>4313</th>\n",
       "      <td>Steak Salad Bowl</td>\n",
       "      <td>[Roasted Chili Corn Salsa, [Fajita Vegetables,...</td>\n",
       "      <td>11.89</td>\n",
       "    </tr>\n",
       "    <tr>\n",
       "      <th>3208</th>\n",
       "      <td>Barbacoa Salad Bowl</td>\n",
       "      <td>[Tomatillo Red Chili Salsa, [Black Beans, Chee...</td>\n",
       "      <td>11.89</td>\n",
       "    </tr>\n",
       "    <tr>\n",
       "      <th>...</th>\n",
       "      <td>...</td>\n",
       "      <td>...</td>\n",
       "      <td>...</td>\n",
       "    </tr>\n",
       "    <tr>\n",
       "      <th>28</th>\n",
       "      <td>Canned Soda</td>\n",
       "      <td>[Dr. Pepper]</td>\n",
       "      <td>1.09</td>\n",
       "    </tr>\n",
       "    <tr>\n",
       "      <th>117</th>\n",
       "      <td>Canned Soda</td>\n",
       "      <td>[Diet Dr. Pepper]</td>\n",
       "      <td>1.09</td>\n",
       "    </tr>\n",
       "    <tr>\n",
       "      <th>126</th>\n",
       "      <td>Canned Soda</td>\n",
       "      <td>[Coca Cola]</td>\n",
       "      <td>1.09</td>\n",
       "    </tr>\n",
       "    <tr>\n",
       "      <th>162</th>\n",
       "      <td>Canned Soda</td>\n",
       "      <td>[Diet Coke]</td>\n",
       "      <td>1.09</td>\n",
       "    </tr>\n",
       "    <tr>\n",
       "      <th>18</th>\n",
       "      <td>Canned Soda</td>\n",
       "      <td>[Sprite]</td>\n",
       "      <td>1.09</td>\n",
       "    </tr>\n",
       "  </tbody>\n",
       "</table>\n",
       "<p>1871 rows × 3 columns</p>\n",
       "</div>"
      ]
     },
     "execution_count": 33,
     "metadata": {},
     "output_type": "execute_result"
    }
   ],
   "execution_count": 33
  },
  {
   "cell_type": "markdown",
   "metadata": {},
   "source": [
    "### Step 6. Sort by the name of the item"
   ]
  },
  {
   "cell_type": "code",
   "metadata": {
    "collapsed": false,
    "ExecuteTime": {
     "end_time": "2025-09-02T10:14:50.966205Z",
     "start_time": "2025-09-02T10:14:50.956795Z"
    }
   },
   "source": "chipo.sort_values(\"item_name\")",
   "outputs": [
    {
     "data": {
      "text/plain": [
       "      order_id  quantity          item_name  \\\n",
       "3389      1360         2  6 Pack Soft Drink   \n",
       "341        148         1  6 Pack Soft Drink   \n",
       "1849       749         1  6 Pack Soft Drink   \n",
       "1860       754         1  6 Pack Soft Drink   \n",
       "2713      1076         1  6 Pack Soft Drink   \n",
       "...        ...       ...                ...   \n",
       "2384       948         1  Veggie Soft Tacos   \n",
       "781        322         1  Veggie Soft Tacos   \n",
       "2851      1132         1  Veggie Soft Tacos   \n",
       "1699       688         1  Veggie Soft Tacos   \n",
       "1395       567         1  Veggie Soft Tacos   \n",
       "\n",
       "                                     choice_description item_price  \n",
       "3389                                        [Diet Coke]    $12.98   \n",
       "341                                         [Diet Coke]     $6.49   \n",
       "1849                                             [Coke]     $6.49   \n",
       "1860                                        [Diet Coke]     $6.49   \n",
       "2713                                             [Coke]     $6.49   \n",
       "...                                                 ...        ...  \n",
       "2384  [Roasted Chili Corn Salsa, [Fajita Vegetables,...     $8.75   \n",
       "781   [Fresh Tomato Salsa, [Black Beans, Cheese, Sou...     $8.75   \n",
       "2851  [Roasted Chili Corn Salsa (Medium), [Black Bea...     $8.49   \n",
       "1699  [Fresh Tomato Salsa, [Fajita Vegetables, Rice,...    $11.25   \n",
       "1395  [Fresh Tomato Salsa (Mild), [Pinto Beans, Rice...     $8.49   \n",
       "\n",
       "[4622 rows x 5 columns]"
      ],
      "text/html": [
       "<div>\n",
       "<style scoped>\n",
       "    .dataframe tbody tr th:only-of-type {\n",
       "        vertical-align: middle;\n",
       "    }\n",
       "\n",
       "    .dataframe tbody tr th {\n",
       "        vertical-align: top;\n",
       "    }\n",
       "\n",
       "    .dataframe thead th {\n",
       "        text-align: right;\n",
       "    }\n",
       "</style>\n",
       "<table border=\"1\" class=\"dataframe\">\n",
       "  <thead>\n",
       "    <tr style=\"text-align: right;\">\n",
       "      <th></th>\n",
       "      <th>order_id</th>\n",
       "      <th>quantity</th>\n",
       "      <th>item_name</th>\n",
       "      <th>choice_description</th>\n",
       "      <th>item_price</th>\n",
       "    </tr>\n",
       "  </thead>\n",
       "  <tbody>\n",
       "    <tr>\n",
       "      <th>3389</th>\n",
       "      <td>1360</td>\n",
       "      <td>2</td>\n",
       "      <td>6 Pack Soft Drink</td>\n",
       "      <td>[Diet Coke]</td>\n",
       "      <td>$12.98</td>\n",
       "    </tr>\n",
       "    <tr>\n",
       "      <th>341</th>\n",
       "      <td>148</td>\n",
       "      <td>1</td>\n",
       "      <td>6 Pack Soft Drink</td>\n",
       "      <td>[Diet Coke]</td>\n",
       "      <td>$6.49</td>\n",
       "    </tr>\n",
       "    <tr>\n",
       "      <th>1849</th>\n",
       "      <td>749</td>\n",
       "      <td>1</td>\n",
       "      <td>6 Pack Soft Drink</td>\n",
       "      <td>[Coke]</td>\n",
       "      <td>$6.49</td>\n",
       "    </tr>\n",
       "    <tr>\n",
       "      <th>1860</th>\n",
       "      <td>754</td>\n",
       "      <td>1</td>\n",
       "      <td>6 Pack Soft Drink</td>\n",
       "      <td>[Diet Coke]</td>\n",
       "      <td>$6.49</td>\n",
       "    </tr>\n",
       "    <tr>\n",
       "      <th>2713</th>\n",
       "      <td>1076</td>\n",
       "      <td>1</td>\n",
       "      <td>6 Pack Soft Drink</td>\n",
       "      <td>[Coke]</td>\n",
       "      <td>$6.49</td>\n",
       "    </tr>\n",
       "    <tr>\n",
       "      <th>...</th>\n",
       "      <td>...</td>\n",
       "      <td>...</td>\n",
       "      <td>...</td>\n",
       "      <td>...</td>\n",
       "      <td>...</td>\n",
       "    </tr>\n",
       "    <tr>\n",
       "      <th>2384</th>\n",
       "      <td>948</td>\n",
       "      <td>1</td>\n",
       "      <td>Veggie Soft Tacos</td>\n",
       "      <td>[Roasted Chili Corn Salsa, [Fajita Vegetables,...</td>\n",
       "      <td>$8.75</td>\n",
       "    </tr>\n",
       "    <tr>\n",
       "      <th>781</th>\n",
       "      <td>322</td>\n",
       "      <td>1</td>\n",
       "      <td>Veggie Soft Tacos</td>\n",
       "      <td>[Fresh Tomato Salsa, [Black Beans, Cheese, Sou...</td>\n",
       "      <td>$8.75</td>\n",
       "    </tr>\n",
       "    <tr>\n",
       "      <th>2851</th>\n",
       "      <td>1132</td>\n",
       "      <td>1</td>\n",
       "      <td>Veggie Soft Tacos</td>\n",
       "      <td>[Roasted Chili Corn Salsa (Medium), [Black Bea...</td>\n",
       "      <td>$8.49</td>\n",
       "    </tr>\n",
       "    <tr>\n",
       "      <th>1699</th>\n",
       "      <td>688</td>\n",
       "      <td>1</td>\n",
       "      <td>Veggie Soft Tacos</td>\n",
       "      <td>[Fresh Tomato Salsa, [Fajita Vegetables, Rice,...</td>\n",
       "      <td>$11.25</td>\n",
       "    </tr>\n",
       "    <tr>\n",
       "      <th>1395</th>\n",
       "      <td>567</td>\n",
       "      <td>1</td>\n",
       "      <td>Veggie Soft Tacos</td>\n",
       "      <td>[Fresh Tomato Salsa (Mild), [Pinto Beans, Rice...</td>\n",
       "      <td>$8.49</td>\n",
       "    </tr>\n",
       "  </tbody>\n",
       "</table>\n",
       "<p>4622 rows × 5 columns</p>\n",
       "</div>"
      ]
     },
     "execution_count": 30,
     "metadata": {},
     "output_type": "execute_result"
    }
   ],
   "execution_count": 30
  },
  {
   "cell_type": "markdown",
   "metadata": {},
   "source": [
    "### Step 7. What was the quantity of the most expensive item ordered?"
   ]
  },
  {
   "cell_type": "code",
   "metadata": {
    "collapsed": false,
    "ExecuteTime": {
     "end_time": "2025-09-02T11:02:08.697729Z",
     "start_time": "2025-09-02T11:02:08.558183Z"
    }
   },
   "source": [
    "expensive_price = price_per_item.value_counts(subset=[\"item_price\"]).sort_index(ascending=False).head(1).index[0][0]\n",
    "most_expensive_items = price_per_item[price_per_item[\"item_price\"] == expensive_price][[\"item_name\", \"choice_description\"]]\n",
    "list(most_expensive_items.itertuples(index=False, name=None))\n",
    "mask = chipo[[\"item_name\", \"choice_description\"]].apply(lambda x: tuple(x) in most_expensive_items.itertuples(index=False, name=None), axis=1)\n",
    "\n",
    "chipo[mask]['quantity'].sum()\n"
   ],
   "outputs": [
    {
     "data": {
      "text/plain": [
       "np.int64(30)"
      ]
     },
     "execution_count": 85,
     "metadata": {},
     "output_type": "execute_result"
    }
   ],
   "execution_count": 85
  },
  {
   "cell_type": "markdown",
   "metadata": {},
   "source": [
    "### Step 8. How many times was a Veggie Salad Bowl ordered?"
   ]
  },
  {
   "cell_type": "code",
   "execution_count": null,
   "metadata": {
    "collapsed": false
   },
   "outputs": [],
   "source": []
  },
  {
   "cell_type": "markdown",
   "metadata": {},
   "source": [
    "### Step 9. How many times did someone order more than one Canned Soda?"
   ]
  },
  {
   "cell_type": "code",
   "execution_count": null,
   "metadata": {
    "collapsed": false
   },
   "outputs": [],
   "source": []
  }
 ],
 "metadata": {
  "kernelspec": {
   "display_name": "Python 3 (ipykernel)",
   "language": "python",
   "name": "python3"
  },
  "language_info": {
   "codemirror_mode": {
    "name": "ipython",
    "version": 2
   },
   "file_extension": ".py",
   "mimetype": "text/x-python",
   "name": "python",
   "nbconvert_exporter": "python",
   "pygments_lexer": "ipython2",
   "version": "2.7.11"
  }
 },
 "nbformat": 4,
 "nbformat_minor": 0
}
